{
 "cells": [
  {
   "cell_type": "code",
   "execution_count": 97,
   "metadata": {},
   "outputs": [],
   "source": [
    "import numpy as np\n",
    "from sklearn import preprocessing\n",
    "import os.path\n",
    "import librosa\n",
    "import scipy.stats as stats\n",
    "from sklearn.preprocessing import MinMaxScaler"
   ]
  },
  {
   "cell_type": "markdown",
   "metadata": {},
   "source": [
    "#### **2. Extracção de Features.**\n",
    "2.1. Processar as features do ficheiro top100_features.csv."
   ]
  },
  {
   "cell_type": "markdown",
   "metadata": {},
   "source": [
    "2.1.1. Ler o ficheiro e criar um array numpy com as features disponibilizadas."
   ]
  },
  {
   "cell_type": "code",
   "execution_count": 98,
   "metadata": {},
   "outputs": [],
   "source": [
    "def extract_features():\n",
    "    data = np.genfromtxt(\"Features/top100_features.csv\", delimiter = \",\", skip_header = 1)\n",
    "    data = data[:, 1:-1]\n",
    "    return data\n"
   ]
  },
  {
   "cell_type": "markdown",
   "metadata": {},
   "source": [
    "2.1.2. Normalizar as features no intervalo [0, 1]."
   ]
  },
  {
   "cell_type": "code",
   "execution_count": 99,
   "metadata": {},
   "outputs": [],
   "source": [
    "def normalize_features(data):\n",
    "    max_values = data.max(axis = 0)\n",
    "    min_values = data.min(axis = 0)\n",
    "\n",
    "    return (data-min_values)/(max_values - min_values)"
   ]
  },
  {
   "cell_type": "markdown",
   "metadata": {},
   "source": [
    "2.1.3. Criar e gravar em ficheiro um array numpy com as features extraídas (linhas = músicas; colunas = valores das features)."
   ]
  },
  {
   "cell_type": "code",
   "execution_count": 100,
   "metadata": {},
   "outputs": [],
   "source": [
    "def save_top100_features_normalized(path, data_normalized):\n",
    "    np.savetxt(path, data_normalized, delimiter=\",\", fmt=\"%.6f\")"
   ]
  },
  {
   "cell_type": "markdown",
   "metadata": {},
   "source": [
    "2.2. Extrair features da framework librosa. <br>"
   ]
  },
  {
   "cell_type": "markdown",
   "metadata": {},
   "source": [
    "2.2.1. Para os 900 ficheiros da BD, extrair as seguintes features (sugestão: guardar\n",
    "todas as músicas na mesma pasta):\n",
    "- Features Espectrais: mfcc, spectral centroid, spectral bandwidth, spectral\n",
    "contrast, spectral flatness e spectral rolloff.\n",
    "- Features Temporais: F0, rms e zero crossing rate.\n",
    "- Outras features: tempo.\n",
    "- Utilize os parâmetros por omissão do librosa (sr = 22050 Hz, mono, window\n",
    "length = frame length = 92.88 ms e hop length = 23.22 ms).\n",
    "- Guarde as features num array numpy 2D, com número de linhas = número de\n",
    "músicas e número de colunas = número de features"
   ]
  },
  {
   "cell_type": "code",
   "execution_count": 101,
   "metadata": {},
   "outputs": [],
   "source": [
    "def extract_music_features(music):\n",
    "    path = \"Music/\"\n",
    "    \n",
    "    data, sampling_rate = librosa.load(path + music)\n",
    "\n",
    "    mfcc = librosa.feature.mfcc(y=data, sr=sampling_rate, n_mfcc = 13)\n",
    "    spectral_centroid = librosa.feature.spectral_centroid(y=data, sr=sampling_rate)\n",
    "    spectral_bandwidth = librosa.feature.spectral_bandwidth(y=data, sr=sampling_rate)\n",
    "    spectral_contrast = librosa.feature.spectral_contrast(y=data, sr=sampling_rate)\n",
    "    spectral_flatness = librosa.feature.spectral_flatness(y=data)\n",
    "    spectral_rolloff = librosa.feature.spectral_rolloff(y = data, sr = sampling_rate)\n",
    "    f0 = librosa.yin(y=data, fmin=20, fmax=11025)\n",
    "    f0[f0==11025] = 0  \n",
    "    rms = librosa.feature.rms(y=data)\n",
    "    zero_crossing_rate = librosa.feature.zero_crossing_rate(y=data)\n",
    "    tempo = librosa.beat.tempo(y=data, sr=sampling_rate)\n",
    "        \n",
    "    return mfcc, spectral_centroid, spectral_bandwidth, spectral_contrast, spectral_flatness, spectral_rolloff, f0, rms, zero_crossing_rate, tempo"
   ]
  },
  {
   "cell_type": "markdown",
   "metadata": {},
   "source": [
    "2.2.2. Calcular as 7 estatísticas típicas sobre as features anteriores: média, desvio\n",
    "padrão, assimetria (skewness), curtose (kurtosis), mediana, máximo e mínimo.\n",
    "Para o efeito, utilizar a biblioteca scipy.stats (e.g., scipy.stats.skew)."
   ]
  },
  {
   "cell_type": "code",
   "execution_count": 102,
   "metadata": {},
   "outputs": [],
   "source": [
    "def calculate_statistics(feature, axis_):\n",
    "    feat_mean = feature.mean(axis = axis_)\n",
    "    feat_std = feature.std(axis = axis_)\n",
    "    feat_skewness = stats.skew(feature, axis = axis_)\n",
    "    feat_kurtosis = stats.kurtosis(feature, axis = axis_)\n",
    "    feat_median = np.median(feature, axis = axis_)\n",
    "    feat_min = feature.min(axis = axis_)\n",
    "    feat_max = feature.max(axis = axis_)\n",
    "    \n",
    "    if(axis_ == 1):\n",
    "        return np.hstack((feat_mean, feat_std, feat_skewness, feat_kurtosis, feat_median, feat_min, feat_max))\n",
    "    else:\n",
    "        # f0\n",
    "        return np.hstack(([feat_mean], [feat_std], [feat_skewness], [feat_kurtosis], [feat_median], [feat_min], [feat_max]))\n",
    "    "
   ]
  },
  {
   "cell_type": "markdown",
   "metadata": {},
   "source": [
    "2.2.3. Normalizar as features no intervalo [0, 1]."
   ]
  },
  {
   "cell_type": "code",
   "execution_count": 103,
   "metadata": {},
   "outputs": [],
   "source": [
    "# Chamamos a função normalize_features()"
   ]
  },
  {
   "cell_type": "markdown",
   "metadata": {},
   "source": [
    "2.2.4. Criar e gravar em ficheiro o array numpy com as features extraídas."
   ]
  },
  {
   "cell_type": "code",
   "execution_count": null,
   "metadata": {},
   "outputs": [],
   "source": []
  },
  {
   "cell_type": "markdown",
   "metadata": {},
   "source": [
    "#### **Main function**"
   ]
  },
  {
   "cell_type": "code",
   "execution_count": 104,
   "metadata": {},
   "outputs": [
    {
     "name": "stdout",
     "output_type": "stream",
     "text": [
      "1\n"
     ]
    },
    {
     "name": "stderr",
     "output_type": "stream",
     "text": [
      "C:\\Python39\\lib\\site-packages\\librosa\\util\\decorators.py:88: UserWarning: PySoundFile failed. Trying audioread instead.\n",
      "  return f(*args, **kwargs)\n"
     ]
    },
    {
     "name": "stdout",
     "output_type": "stream",
     "text": [
      "2\n",
      "3\n",
      "4\n",
      "5\n",
      "6\n",
      "7\n",
      "8\n"
     ]
    }
   ],
   "source": [
    "if __name__ == \"__main__\" :\n",
    "    saved_features = \"top100_features_normalized.csv\"\n",
    "    librosa_features = \"librosa_features.csv\"\n",
    "    music_folder = os.listdir(\"Music\")    \n",
    "\n",
    "    # Ex 2.1\n",
    "    \n",
    "    if os.path.exists(saved_features):\n",
    "        data_normalized = np.genfromtxt(saved_features, delimiter = \",\")\n",
    "    else:\n",
    "        data_extracted = extract_features()\n",
    "        data_normalized = normalize_features(data_extracted)\n",
    "        save_top100_features_normalized(saved_features, data_normalized)\n",
    "    \n",
    "    \n",
    "    # Ex 2.2\n",
    "    if os.path.exists(librosa_features):\n",
    "        librosa_data_normalized = np.genfromtxt(librosa_features, delimiter = \",\")\n",
    "    else:\n",
    "        statistics = np.empty((0, 190))\n",
    "        total_normalized_statistics = np.array([])\n",
    "        \n",
    "        iteration = 1\n",
    "        for music in music_folder:\n",
    "            print(iteration)\n",
    "            mfcc, spectral_centroid, spectral_bandwidth, spectral_contrast, spectral_flatness, spectral_rolloff, f0, rms, zero_crossing_rate, tempo = extract_music_features(music)\n",
    "            \n",
    "            mfcc_statistics = calculate_statistics(mfcc, 1)\n",
    "            spectral_centroid_statistics = calculate_statistics(spectral_centroid, 1)\n",
    "            spectral_bandwidth_statistics = calculate_statistics(spectral_bandwidth, 1)\n",
    "            spectral_contrast_statistics = calculate_statistics(spectral_contrast, 1)\n",
    "            spectral_flatness_statistics = calculate_statistics(spectral_flatness, 1)\n",
    "            spectral_rolloff_statistics = calculate_statistics(spectral_rolloff, 1)\n",
    "            f0_statistics = calculate_statistics(f0, 0)\n",
    "            rms_statistics = calculate_statistics(rms, 1)\n",
    "            zero_crossing_rate_statistics = calculate_statistics(zero_crossing_rate, 1)\n",
    "            \n",
    "            music_statistics = np.concatenate((mfcc_statistics.flatten(), \n",
    "                                                spectral_centroid_statistics,\n",
    "                                                spectral_bandwidth_statistics,\n",
    "                                                spectral_contrast_statistics.flatten(),\n",
    "                                                spectral_flatness_statistics,\n",
    "                                                spectral_rolloff_statistics,\n",
    "                                                f0_statistics, \n",
    "                                                rms_statistics,\n",
    "                                                zero_crossing_rate_statistics,\n",
    "                                                tempo))\n",
    "            statistics = np.vstack((statistics, music_statistics))\n",
    "            iteration += 1\n",
    "            \n",
    "        librosa_data_normalized = normalize_features(statistics)\n",
    "        save_top100_features_normalized(librosa_features, librosa_data_normalized)"
   ]
  }
 ],
 "metadata": {
  "interpreter": {
   "hash": "7d04c2ccdc77879c44c0e38a475c5c944666b751d27f26244a0b0bd35fcecd56"
  },
  "kernelspec": {
   "display_name": "Python 3.10.2 64-bit",
   "language": "python",
   "name": "python3"
  },
  "language_info": {
   "codemirror_mode": {
    "name": "ipython",
    "version": 3
   },
   "file_extension": ".py",
   "mimetype": "text/x-python",
   "name": "python",
   "nbconvert_exporter": "python",
   "pygments_lexer": "ipython3",
   "version": "3.9.2"
  },
  "orig_nbformat": 4
 },
 "nbformat": 4,
 "nbformat_minor": 2
}
